{
 "cells": [
  {
   "cell_type": "code",
   "execution_count": 2,
   "metadata": {},
   "outputs": [],
   "source": [
    "from scapy.all import *\n",
    "import matplotlib.pyplot as plt\n",
    "import pandas as pd\n",
    "import seaborn as sns"
   ]
  },
  {
   "cell_type": "code",
   "execution_count": 103,
   "metadata": {},
   "outputs": [],
   "source": [
    "# OLD\n",
    "def createDataFrame(pkt_lst):\n",
    "    protos = []\n",
    "    dst_type = []\n",
    "    \n",
    "    for pkt in pkt_lst:\n",
    "        try:  \n",
    "            ptype = {\n",
    "                0x0800: 'IPv4',\n",
    "                0x0806: 'ARP',\n",
    "                0x8137: 'IPX',\n",
    "                0x86dd: 'IPv6',\n",
    "                0x88cc: 'LLDP'\n",
    "            }.get(pkt.type, pkt.type)\n",
    "        except AttributeError:\n",
    "            ptype = 'Other'\n",
    "            pass\n",
    "        if ptype != 'Other':\n",
    "            protos.append(ptype)\n",
    "            isBcast = pkt.dst == 'ff:ff:ff:ff:ff:ff'\n",
    "            if isBcast:\n",
    "                dst_type.append(\"broadcast\")\n",
    "            else:\n",
    "                dst_type.append(\"unicast\")\n",
    "    \n",
    "    data_dict = {'protocolos': protos, 'destinos': dst_type}\n",
    "    \n",
    "    return pd.DataFrame.from_dict(data_dict)\n",
    "\n",
    "def probability_chart(df):\n",
    "    total =  df.shape[0]\n",
    "    return (df.groupby(['simbolo']).size() / total).reset_index(name='probabilidad')\n",
    "\n",
    "def entropy_old(df):\n",
    "    probs = probability_chart(df)\n",
    "    sum = 0\n",
    "    for index, row in probs.iterrows():\n",
    "        prob = row['probabilidad']\n",
    "        sum += prob * (- math.log2(prob))\n",
    "        print(prob, (- math.log2(prob)))\n",
    "    return sum\n",
    "\n",
    "def max_entropy_old(df):\n",
    "    return math.log2(df.groupby(['protocolos', 'destinos']).size().reset_index().count()[0])\n",
    "\n",
    "def plotProtocols(dframe, size=(8,8)):\n",
    "    dframe.protocolos.value_counts(sort=False).plot.pie(figsize=size)\n",
    "\n",
    "def getNoTypePkts(pkt_lst):\n",
    "    pkts = []\n",
    "\n",
    "    for pkt in pkt_lst:\n",
    "        try:  \n",
    "            ptype = pkt.type\n",
    "        except AttributeError:\n",
    "            pkts.append(pkt)\n",
    "            pass\n",
    "        \n",
    "    return pkts\n",
    "# NEW\n",
    "def createDataFrame_s1(pkt_lst):\n",
    "    symbol = []\n",
    "    \n",
    "    for pkt in pkt_lst:\n",
    "        try:  \n",
    "            ptype = {\n",
    "                0x0800: 'IPv4',\n",
    "                0x0806: 'ARP',\n",
    "                0x8137: 'IPX',\n",
    "                0x86dd: 'IPv6',\n",
    "                0x88cc: 'LLDP'\n",
    "            }.get(pkt.type, pkt.type)\n",
    "        except AttributeError:\n",
    "            ptype = 'Other'\n",
    "            pass\n",
    "        if ptype != 'Other':\n",
    "            isBcast = pkt.dst == 'ff:ff:ff:ff:ff:ff'\n",
    "            if isBcast:\n",
    "                symbol.append(ptype + \" broadcast\")\n",
    "            else:\n",
    "                symbol.append(ptype + \"  unicast\")\n",
    "    \n",
    "    data_dict = {'simbolo': symbol}\n",
    "    \n",
    "    df = pd.DataFrame.from_dict(data_dict)\n",
    "    \n",
    "    total =  df.shape[0]\n",
    "    size = df.groupby(['simbolo']).size()\n",
    "    prob = size / total\n",
    "    info = prob.apply(math.log2) * -1\n",
    "    \n",
    "    return pd.DataFrame({'simbolo':size.index, 'total':size.values, 'prob': prob.values, 'info': info.values})\n",
    "    \n",
    "\n",
    "def entropy(df):\n",
    "    return sum(data[\"prob\"] * data[\"info\"])\n",
    "\n",
    "def max_entropy(df):\n",
    "    return math.log2(sum(data.total))\n"
   ]
  },
  {
   "cell_type": "code",
   "execution_count": 22,
   "metadata": {},
   "outputs": [],
   "source": [
    "# packets_mc = rdpcap(\"mc.cap\")\n",
    "# packets_desp = rdpcap(\"desp.cap\")\n",
    "# packets_naxio = rdpcap(\"pruebamac.cap\")\n",
    "# packets_home = rdpcap(\"home.cap\")\n",
    "# packets_mh = rdpcap(\"manu_home.cap\")\n",
    "lastDespeCap = \"despe.cap\"\n",
    "\n",
    "packets = rdpcap(lastDespeCap)\n"
   ]
  },
  {
   "cell_type": "code",
   "execution_count": 104,
   "metadata": {},
   "outputs": [
    {
     "data": {
      "text/html": [
       "<div>\n",
       "<style scoped>\n",
       "    .dataframe tbody tr th:only-of-type {\n",
       "        vertical-align: middle;\n",
       "    }\n",
       "\n",
       "    .dataframe tbody tr th {\n",
       "        vertical-align: top;\n",
       "    }\n",
       "\n",
       "    .dataframe thead th {\n",
       "        text-align: right;\n",
       "    }\n",
       "</style>\n",
       "<table border=\"1\" class=\"dataframe\">\n",
       "  <thead>\n",
       "    <tr style=\"text-align: right;\">\n",
       "      <th></th>\n",
       "      <th>simbolo</th>\n",
       "      <th>total</th>\n",
       "      <th>prob</th>\n",
       "      <th>info</th>\n",
       "    </tr>\n",
       "  </thead>\n",
       "  <tbody>\n",
       "    <tr>\n",
       "      <th>0</th>\n",
       "      <td>ARP  unicast</td>\n",
       "      <td>3268</td>\n",
       "      <td>0.084447</td>\n",
       "      <td>3.565816</td>\n",
       "    </tr>\n",
       "    <tr>\n",
       "      <th>1</th>\n",
       "      <td>ARP broadcast</td>\n",
       "      <td>3357</td>\n",
       "      <td>0.086746</td>\n",
       "      <td>3.527052</td>\n",
       "    </tr>\n",
       "    <tr>\n",
       "      <th>2</th>\n",
       "      <td>IPv4  unicast</td>\n",
       "      <td>19858</td>\n",
       "      <td>0.513140</td>\n",
       "      <td>0.962576</td>\n",
       "    </tr>\n",
       "    <tr>\n",
       "      <th>3</th>\n",
       "      <td>IPv4 broadcast</td>\n",
       "      <td>7165</td>\n",
       "      <td>0.185147</td>\n",
       "      <td>2.433258</td>\n",
       "    </tr>\n",
       "    <tr>\n",
       "      <th>4</th>\n",
       "      <td>IPv6  unicast</td>\n",
       "      <td>4973</td>\n",
       "      <td>0.128505</td>\n",
       "      <td>2.960108</td>\n",
       "    </tr>\n",
       "    <tr>\n",
       "      <th>5</th>\n",
       "      <td>LLDP  unicast</td>\n",
       "      <td>78</td>\n",
       "      <td>0.002016</td>\n",
       "      <td>8.954606</td>\n",
       "    </tr>\n",
       "  </tbody>\n",
       "</table>\n",
       "</div>"
      ],
      "text/plain": [
       "          simbolo  total      prob      info\n",
       "0    ARP  unicast   3268  0.084447  3.565816\n",
       "1   ARP broadcast   3357  0.086746  3.527052\n",
       "2   IPv4  unicast  19858  0.513140  0.962576\n",
       "3  IPv4 broadcast   7165  0.185147  2.433258\n",
       "4   IPv6  unicast   4973  0.128505  2.960108\n",
       "5   LLDP  unicast     78  0.002016  8.954606"
      ]
     },
     "execution_count": 104,
     "metadata": {},
     "output_type": "execute_result"
    }
   ],
   "source": [
    "data = createDataFrame_s1(packets)\n",
    "data"
   ]
  },
  {
   "cell_type": "code",
   "execution_count": 77,
   "metadata": {},
   "outputs": [
    {
     "data": {
      "text/plain": [
       "True"
      ]
     },
     "execution_count": 77,
     "metadata": {},
     "output_type": "execute_result"
    }
   ],
   "source": [
    "scapy.layers.l2.STP in getNoTypePkts(packets)[50]"
   ]
  },
  {
   "cell_type": "code",
   "execution_count": 90,
   "metadata": {},
   "outputs": [
    {
     "data": {
      "text/plain": [
       "1.94996257796813"
      ]
     },
     "execution_count": 90,
     "metadata": {},
     "output_type": "execute_result"
    }
   ],
   "source": [
    "entropy(data)"
   ]
  },
  {
   "cell_type": "code",
   "execution_count": 91,
   "metadata": {},
   "outputs": [
    {
     "data": {
      "text/plain": [
       "15.24000866649586"
      ]
     },
     "execution_count": 91,
     "metadata": {},
     "output_type": "execute_result"
    }
   ],
   "source": [
    "max_entropy(data)"
   ]
  }
 ],
 "metadata": {
  "kernelspec": {
   "display_name": "Python 3",
   "language": "python",
   "name": "python3"
  },
  "language_info": {
   "codemirror_mode": {
    "name": "ipython",
    "version": 3
   },
   "file_extension": ".py",
   "mimetype": "text/x-python",
   "name": "python",
   "nbconvert_exporter": "python",
   "pygments_lexer": "ipython3",
   "version": "3.6.5"
  }
 },
 "nbformat": 4,
 "nbformat_minor": 2
}
