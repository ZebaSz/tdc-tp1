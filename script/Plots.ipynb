{
 "cells": [
  {
   "cell_type": "code",
   "execution_count": 3,
   "metadata": {},
   "outputs": [],
   "source": [
    "from scapy.all import *\n",
    "import matplotlib.pyplot as plt\n",
    "import pandas as pd\n",
    "import seaborn as sns\n",
    "import networkx as nx"
   ]
  },
  {
   "cell_type": "code",
   "execution_count": 7,
   "metadata": {},
   "outputs": [],
   "source": [
    "# OLD\n",
    "def createDataFrame(pkt_lst):\n",
    "    protos = []\n",
    "    dst_type = []\n",
    "    \n",
    "    for pkt in pkt_lst:\n",
    "        try:  \n",
    "            ptype = {\n",
    "                0x0800: 'IPv4',\n",
    "                0x0806: 'ARP',\n",
    "                0x8137: 'IPX',\n",
    "                0x86dd: 'IPv6',\n",
    "                0x88cc: 'LLDP'\n",
    "            }.get(pkt.type, pkt.type)\n",
    "        except AttributeError:\n",
    "            ptype = 'Other'\n",
    "            pass\n",
    "        if ptype != 'Other':\n",
    "            protos.append(ptype)\n",
    "            isBcast = pkt.dst == 'ff:ff:ff:ff:ff:ff'\n",
    "            if isBcast:\n",
    "                dst_type.append(\"broadcast\")\n",
    "            else:\n",
    "                dst_type.append(\"unicast\")\n",
    "    \n",
    "    data_dict = {'protocolos': protos, 'destinos': dst_type}\n",
    "    \n",
    "    return pd.DataFrame.from_dict(data_dict)\n",
    "\n",
    "def probability_chart(df):\n",
    "    total =  df.shape[0]\n",
    "    return (df.groupby(['simbolo']).size() / total).reset_index(name='probabilidad')\n",
    "\n",
    "def entropy_old(df):\n",
    "    probs = probability_chart(df)\n",
    "    sum = 0\n",
    "    for index, row in probs.iterrows():\n",
    "        prob = row['probabilidad']\n",
    "        sum += prob * (- math.log2(prob))\n",
    "        print(prob, (- math.log2(prob)))\n",
    "    return sum\n",
    "\n",
    "def max_entropy_old(df):\n",
    "    return math.log2(df.groupby(['protocolos', 'destinos']).size().reset_index().count()[0])\n",
    "\n",
    "def plotProtocols(dframe, size=(8,8)):\n",
    "    dframe.protocolos.value_counts(sort=False).plot.pie(figsize=size)\n",
    "\n",
    "def getNoTypePkts(pkt_lst):\n",
    "    pkts = []\n",
    "\n",
    "    for pkt in pkt_lst:\n",
    "        try:  \n",
    "            ptype = pkt.type\n",
    "        except AttributeError:\n",
    "            pkts.append(pkt)\n",
    "            pass\n",
    "        \n",
    "    return pkts\n",
    "# NEW\n",
    "def createDataFrame_s1(pkt_lst):\n",
    "    protos = []\n",
    "    dsts = []\n",
    "    for pkt in pkt_lst:\n",
    "        try:  \n",
    "            ptype = {\n",
    "                0x0800: 'IPv4',\n",
    "                0x0806: 'ARP',\n",
    "                0x8137: 'IPX',\n",
    "                0x86dd: 'IPv6',\n",
    "                0x88cc: 'LLDP'\n",
    "            }.get(pkt.type, pkt.type)\n",
    "        except AttributeError:\n",
    "            ptype = 'Other'\n",
    "            pass\n",
    "        if ptype != 'Other':\n",
    "            protos.append(ptype)\n",
    "            isBcast = pkt.dst == 'ff:ff:ff:ff:ff:ff'\n",
    "            if isBcast:\n",
    "                dsts.append(\"broadcast\")\n",
    "            else:\n",
    "                dsts.append(\"unicast\")\n",
    "    \n",
    "    data_dict = {'protocolo': protos, 'dst': dsts}\n",
    "    \n",
    "    df = pd.DataFrame.from_dict(data_dict)\n",
    "    df['simbolo'] = df['protocolo'] + ' ' + df['dst']\n",
    "    \n",
    "    return df\n",
    "    \n",
    "def createDataFrame_s2(pkt_lst):\n",
    "    arp_type = []\n",
    "    srcs = []\n",
    "    dsts = []\n",
    "    for pkt in pkt_lst:\n",
    "        if scapy.layers.l2.ARP in pkt and pkt.psrc != pkt.pdst:\n",
    "            if scapy.layers.l2.ARP.is_at == pkt.op:\n",
    "                arp_type.append('is-at')\n",
    "            else:\n",
    "                arp_type.append('who-has')\n",
    "            srcs.append(pkt.psrc)\n",
    "            dsts.append(pkt.pdst)\n",
    "\n",
    "    data_dict = {'tipo': arp_type, 'src': srcs, 'dst': dsts}\n",
    "\n",
    "    df = pd.DataFrame.from_dict(data_dict)\n",
    "    df['simbolo'] = df['tipo'] + ' ' + df['dst'] \n",
    "    \n",
    "    return df\n",
    "    \n",
    "\n"
   ]
  },
  {
   "cell_type": "code",
   "execution_count": 9,
   "metadata": {},
   "outputs": [],
   "source": [
    "def summaryDataFrame(df):\n",
    "    total =  df.shape[0]\n",
    "    size = df.groupby(['simbolo']).size()\n",
    "    prob = size / total\n",
    "    info = prob.apply(math.log2) * -1\n",
    "    \n",
    "    return pd.DataFrame({'simbolo':size.index, 'total':size.values, 'prob': prob.values, 'info': info.values})\n",
    "\n",
    "def entropy(df):\n",
    "    return sum(df[\"prob\"] * df[\"info\"])\n",
    "\n",
    "def max_entropy(df):\n",
    "    return math.log2(sum(df.total))"
   ]
  },
  {
   "cell_type": "code",
   "execution_count": 8,
   "metadata": {},
   "outputs": [],
   "source": [
    "def plot_simbols_pie(df):\n",
    "    df.groupby('simbolo').size().plot.pie()\n",
    "def plot_dest_type_pie(df):\n",
    "    df.groupby('dst').size().plot.pie()\n",
    "def plot_prob_bar(summ): # Hay que mandarle el summaryDataFrame\n",
    "    ax = sns.barplot(x=\"simbolo\", y=\"prob\", data=summ)\n",
    "    ax.set(xlabel='Simbolo', ylabel='Probabilidad')\n",
    "    ax.set_xticklabels(ax.get_xticklabels(), rotation=50)\n",
    "def plot_info_bar(summ): # Hay que mandarle el summaryDataFrame\n",
    "    ax = sns.barplot(x=\"simbolo\", y=\"info\", data=summ)\n",
    "    ax.set(xlabel='Simbolo', ylabel='Informacion')\n",
    "    ax.set_xticklabels(ax.get_xticklabels(), rotation=50)\n",
    "    ax.axhline(y=max_entropy(summ), xmin=-1, xmax=1, color='r', linestyle='--', lw=2)\n",
    "    ax.axhline(y=entropy(summ), xmin=-1, xmax=1, color='r', linestyle='-', lw=2)"
   ]
  },
  {
   "cell_type": "code",
   "execution_count": 1,
   "metadata": {},
   "outputs": [],
   "source": [
    "def net_graph(df):\n",
    "    G = nx.Graph()\n",
    "\n",
    "    for index, row in df.iterrows():\n",
    "        G.add_node(row['src'])\n",
    "        G.add_node(row['dst'])\n",
    "        G.add_edge(row['src'], row['dst'])\n",
    "    nx.draw(G, pos=nx.spring_layout(G))"
   ]
  },
  {
   "cell_type": "code",
   "execution_count": 83,
   "metadata": {},
   "outputs": [],
   "source": [
    "# packets_mc = rdpcap(\"mc.cap\")\n",
    "# packets_desp = rdpcap(\"desp.cap\")\n",
    "# packets_naxio = rdpcap(\"pruebamac.cap\")\n",
    "# packets_home = rdpcap(\"home.cap\")\n",
    "#packets_mh = rdpcap(\"manu_home.pcap\")\n",
    "lastDespeCap = \"despe.cap\"\n",
    "macCap = \"mac.cap\"\n",
    "packets = rdpcap(macCap)\n"
   ]
  },
  {
   "cell_type": "code",
   "execution_count": 84,
   "metadata": {},
   "outputs": [],
   "source": [
    "data_s1 = createDataFrame_s1(packets)\n",
    "summary_s1 = summaryDataFrame(data_s1)\n",
    "data_s2 = createDataFrame_s2(packets)\n",
    "summary_s2 = summaryDataFrame(data_s2)"
   ]
  },
  {
   "cell_type": "code",
   "execution_count": 85,
   "metadata": {},
   "outputs": [
    {
     "name": "stdout",
     "output_type": "stream",
     "text": [
      "entropy: 1.5110599539794516  max_entropy: 13.715104009236168\n"
     ]
    },
    {
     "data": {
      "text/html": [
       "<div>\n",
       "<style scoped>\n",
       "    .dataframe tbody tr th:only-of-type {\n",
       "        vertical-align: middle;\n",
       "    }\n",
       "\n",
       "    .dataframe tbody tr th {\n",
       "        vertical-align: top;\n",
       "    }\n",
       "\n",
       "    .dataframe thead th {\n",
       "        text-align: right;\n",
       "    }\n",
       "</style>\n",
       "<table border=\"1\" class=\"dataframe\">\n",
       "  <thead>\n",
       "    <tr style=\"text-align: right;\">\n",
       "      <th></th>\n",
       "      <th>simbolo</th>\n",
       "      <th>total</th>\n",
       "      <th>prob</th>\n",
       "      <th>info</th>\n",
       "    </tr>\n",
       "  </thead>\n",
       "  <tbody>\n",
       "    <tr>\n",
       "      <th>0</th>\n",
       "      <td>ARP broadcast</td>\n",
       "      <td>8168</td>\n",
       "      <td>0.607377</td>\n",
       "      <td>0.719337</td>\n",
       "    </tr>\n",
       "    <tr>\n",
       "      <th>1</th>\n",
       "      <td>ARP unicast</td>\n",
       "      <td>363</td>\n",
       "      <td>0.026993</td>\n",
       "      <td>5.211278</td>\n",
       "    </tr>\n",
       "    <tr>\n",
       "      <th>2</th>\n",
       "      <td>IPv4 broadcast</td>\n",
       "      <td>2233</td>\n",
       "      <td>0.166047</td>\n",
       "      <td>2.590336</td>\n",
       "    </tr>\n",
       "    <tr>\n",
       "      <th>3</th>\n",
       "      <td>IPv4 unicast</td>\n",
       "      <td>2602</td>\n",
       "      <td>0.193486</td>\n",
       "      <td>2.369699</td>\n",
       "    </tr>\n",
       "    <tr>\n",
       "      <th>4</th>\n",
       "      <td>IPv6 unicast</td>\n",
       "      <td>82</td>\n",
       "      <td>0.006098</td>\n",
       "      <td>7.357552</td>\n",
       "    </tr>\n",
       "  </tbody>\n",
       "</table>\n",
       "</div>"
      ],
      "text/plain": [
       "          simbolo  total      prob      info\n",
       "0   ARP broadcast   8168  0.607377  0.719337\n",
       "1     ARP unicast    363  0.026993  5.211278\n",
       "2  IPv4 broadcast   2233  0.166047  2.590336\n",
       "3    IPv4 unicast   2602  0.193486  2.369699\n",
       "4    IPv6 unicast     82  0.006098  7.357552"
      ]
     },
     "execution_count": 85,
     "metadata": {},
     "output_type": "execute_result"
    },
    {
     "data": {
      "image/png": "[encoded data removed]",
      "text/plain": [
       "<Figure size 432x288 with 1 Axes>"
      ]
     },
     "metadata": {},
     "output_type": "display_data"
    }
   ],
   "source": [
    "print(\"entropy:\",  entropy(summary_s1), \" max_entropy:\", max_entropy(summary_s1))\n",
    "plot_prob_bar(summary_s1)\n",
    "summary_s1"
   ]
  },
  {
   "cell_type": "code",
   "execution_count": 86,
   "metadata": {},
   "outputs": [
    {
     "name": "stdout",
     "output_type": "stream",
     "text": [
      "entropy: 1.146397508444987  max_entropy: 8.751544059089099\n"
     ]
    },
    {
     "data": {
      "image/png": "[encoded data removed]",
      "text/plain": [
       "<Figure size 432x288 with 1 Axes>"
      ]
     },
     "metadata": {},
     "output_type": "display_data"
    }
   ],
   "source": [
    "print(\"entropy:\",  entropy(summary_s2), \" max_entropy:\", max_entropy(summary_s2))\n",
    "# A este grafico hay que modificarlo para que no se vean todos los simbolos o something like that\n",
    "plot_prob_bar(summary_s2)"
   ]
  },
  {
   "cell_type": "code",
   "execution_count": 75,
   "metadata": {},
   "outputs": [
    {
     "data": {
      "text/plain": [
       "<matplotlib.lines.Line2D at 0x7f9e9cf6a240>"
      ]
     },
     "execution_count": 75,
     "metadata": {},
     "output_type": "execute_result"
    },
    {
     "data": {
      "image/png": "[encoded data removed]",
      "text/plain": [
       "<Figure size 432x288 with 1 Axes>"
      ]
     },
     "metadata": {},
     "output_type": "display_data"
    }
   ],
   "source": [
    "ax = sns.barplot(x=\"simbolo\", y=\"info\", data=summary_s2.sort_values('info', ascending=True).iloc[0:20])\n",
    "ax.set(xlabel='Simbolo', ylabel='Probabilidad')\n",
    "ax.set_xticklabels(ax.get_xticklabels(), rotation=90)\n",
    "ax.axhline(y=entropy(summary_s2), xmin=-1, xmax=1, color='r', linestyle='-', lw=2)"
   ]
  },
  {
   "cell_type": "code",
   "execution_count": 55,
   "metadata": {},
   "outputs": [
    {
     "data": {
      "text/plain": [
       "12.687375683437468"
      ]
     },
     "execution_count": 55,
     "metadata": {},
     "output_type": "execute_result"
    }
   ],
   "source": [
    "data_s1 = createDataFrame_s1(packets)\n",
    "summary_s1 = summaryDataFrame(data_s1)"
   ]
  },
  {
   "cell_type": "code",
   "execution_count": 53,
   "metadata": {},
   "outputs": [],
   "source": [
    "packets_mac = rdpcap(\"pruebamac.cap\")"
   ]
  },
  {
   "cell_type": "code",
   "execution_count": 54,
   "metadata": {},
   "outputs": [],
   "source": [
    "data_mac = createDataFrame_s1(packets_mac)\n",
    "summary_mac = summaryDataFrame(data_mac)"
   ]
  },
  {
   "cell_type": "code",
   "execution_count": 55,
   "metadata": {},
   "outputs": [
    {
     "data": {
      "text/html": [
       "<div>\n",
       "<style scoped>\n",
       "    .dataframe tbody tr th:only-of-type {\n",
       "        vertical-align: middle;\n",
       "    }\n",
       "\n",
       "    .dataframe tbody tr th {\n",
       "        vertical-align: top;\n",
       "    }\n",
       "\n",
       "    .dataframe thead th {\n",
       "        text-align: right;\n",
       "    }\n",
       "</style>\n",
       "<table border=\"1\" class=\"dataframe\">\n",
       "  <thead>\n",
       "    <tr style=\"text-align: right;\">\n",
       "      <th></th>\n",
       "      <th>simbolo</th>\n",
       "      <th>total</th>\n",
       "      <th>prob</th>\n",
       "      <th>info</th>\n",
       "    </tr>\n",
       "  </thead>\n",
       "  <tbody>\n",
       "    <tr>\n",
       "      <th>0</th>\n",
       "      <td>ARP broadcast</td>\n",
       "      <td>8168</td>\n",
       "      <td>0.607377</td>\n",
       "      <td>0.719337</td>\n",
       "    </tr>\n",
       "    <tr>\n",
       "      <th>1</th>\n",
       "      <td>ARP unicast</td>\n",
       "      <td>363</td>\n",
       "      <td>0.026993</td>\n",
       "      <td>5.211278</td>\n",
       "    </tr>\n",
       "    <tr>\n",
       "      <th>2</th>\n",
       "      <td>IPv4 broadcast</td>\n",
       "      <td>2233</td>\n",
       "      <td>0.166047</td>\n",
       "      <td>2.590336</td>\n",
       "    </tr>\n",
       "    <tr>\n",
       "      <th>3</th>\n",
       "      <td>IPv4 unicast</td>\n",
       "      <td>2602</td>\n",
       "      <td>0.193486</td>\n",
       "      <td>2.369699</td>\n",
       "    </tr>\n",
       "    <tr>\n",
       "      <th>4</th>\n",
       "      <td>IPv6 unicast</td>\n",
       "      <td>82</td>\n",
       "      <td>0.006098</td>\n",
       "      <td>7.357552</td>\n",
       "    </tr>\n",
       "  </tbody>\n",
       "</table>\n",
       "</div>"
      ],
      "text/plain": [
       "          simbolo  total      prob      info\n",
       "0   ARP broadcast   8168  0.607377  0.719337\n",
       "1     ARP unicast    363  0.026993  5.211278\n",
       "2  IPv4 broadcast   2233  0.166047  2.590336\n",
       "3    IPv4 unicast   2602  0.193486  2.369699\n",
       "4    IPv6 unicast     82  0.006098  7.357552"
      ]
     },
     "execution_count": 55,
     "metadata": {},
     "output_type": "execute_result"
    }
   ],
   "source": [
    "summary_mac"
   ]
  },
  {
   "cell_type": "code",
   "execution_count": 56,
   "metadata": {},
   "outputs": [
    {
     "data": {
      "image/png": "[encoded data removed]",
      "text/plain": [
       "<Figure size 432x288 with 1 Axes>"
      ]
     },
     "metadata": {},
     "output_type": "display_data"
    }
   ],
   "source": [
    "plot_info_bar(summary_mac)"
   ]
  },
  {
   "cell_type": "code",
   "execution_count": 57,
   "metadata": {},
   "outputs": [
    {
     "data": {
      "image/png": "[encoded data removed]",
      "text/plain": [
       "<Figure size 432x288 with 1 Axes>"
      ]
     },
     "metadata": {},
     "output_type": "display_data"
    }
   ],
   "source": [
    "plot_prob_bar(summary_mac)"
   ]
  },
  {
   "cell_type": "code",
   "execution_count": 46,
   "metadata": {},
   "outputs": [],
   "source": [
    "packets_mh = rdpcap(\"manu_home.pcap\")"
   ]
  },
  {
   "cell_type": "code",
   "execution_count": 47,
   "metadata": {},
   "outputs": [],
   "source": [
    "data_mh = createDataFrame_s1(packets_mh)\n",
    "summary_mh = summaryDataFrame(data_mh)"
   ]
  },
  {
   "cell_type": "code",
   "execution_count": 49,
   "metadata": {},
   "outputs": [
    {
     "data": {
      "text/html": [
       "<div>\n",
       "<style scoped>\n",
       "    .dataframe tbody tr th:only-of-type {\n",
       "        vertical-align: middle;\n",
       "    }\n",
       "\n",
       "    .dataframe tbody tr th {\n",
       "        vertical-align: top;\n",
       "    }\n",
       "\n",
       "    .dataframe thead th {\n",
       "        text-align: right;\n",
       "    }\n",
       "</style>\n",
       "<table border=\"1\" class=\"dataframe\">\n",
       "  <thead>\n",
       "    <tr style=\"text-align: right;\">\n",
       "      <th></th>\n",
       "      <th>simbolo</th>\n",
       "      <th>total</th>\n",
       "      <th>prob</th>\n",
       "      <th>info</th>\n",
       "    </tr>\n",
       "  </thead>\n",
       "  <tbody>\n",
       "    <tr>\n",
       "      <th>0</th>\n",
       "      <td>ARP broadcast</td>\n",
       "      <td>62</td>\n",
       "      <td>0.005632</td>\n",
       "      <td>7.472199</td>\n",
       "    </tr>\n",
       "    <tr>\n",
       "      <th>1</th>\n",
       "      <td>ARP unicast</td>\n",
       "      <td>15</td>\n",
       "      <td>0.001363</td>\n",
       "      <td>9.519505</td>\n",
       "    </tr>\n",
       "    <tr>\n",
       "      <th>2</th>\n",
       "      <td>IPv4 broadcast</td>\n",
       "      <td>59</td>\n",
       "      <td>0.005359</td>\n",
       "      <td>7.543753</td>\n",
       "    </tr>\n",
       "    <tr>\n",
       "      <th>3</th>\n",
       "      <td>IPv4 unicast</td>\n",
       "      <td>8851</td>\n",
       "      <td>0.803979</td>\n",
       "      <td>0.314771</td>\n",
       "    </tr>\n",
       "    <tr>\n",
       "      <th>4</th>\n",
       "      <td>IPv6 unicast</td>\n",
       "      <td>2022</td>\n",
       "      <td>0.183668</td>\n",
       "      <td>2.444829</td>\n",
       "    </tr>\n",
       "  </tbody>\n",
       "</table>\n",
       "</div>"
      ],
      "text/plain": [
       "          simbolo  total      prob      info\n",
       "0   ARP broadcast     62  0.005632  7.472199\n",
       "1     ARP unicast     15  0.001363  9.519505\n",
       "2  IPv4 broadcast     59  0.005359  7.543753\n",
       "3    IPv4 unicast   8851  0.803979  0.314771\n",
       "4    IPv6 unicast   2022  0.183668  2.444829"
      ]
     },
     "execution_count": 49,
     "metadata": {},
     "output_type": "execute_result"
    }
   ],
   "source": [
    "summary_mh"
   ]
  },
  {
   "cell_type": "code",
   "execution_count": 50,
   "metadata": {},
   "outputs": [
    {
     "data": {
      "image/png": "[encoded data removed]",
      "text/plain": [
       "<Figure size 432x288 with 1 Axes>"
      ]
     },
     "metadata": {},
     "output_type": "display_data"
    }
   ],
   "source": [
    "plot_info_bar(summary_mh)"
   ]
  },
  {
   "cell_type": "code",
   "execution_count": 51,
   "metadata": {},
   "outputs": [
    {
     "data": {
      "image/png": "[encoded data removed]",
      "text/plain": [
       "<Figure size 432x288 with 1 Axes>"
      ]
     },
     "metadata": {},
     "output_type": "display_data"
    }
   ],
   "source": [
    "plot_prob_bar(summary_mh)"
   ]
  },
  {
   "cell_type": "code",
   "execution_count": 18,
   "metadata": {},
   "outputs": [
    {
     "data": {
      "text/plain": [
       "<matplotlib.lines.Line2D at 0x115744b00>"
      ]
     },
     "execution_count": 18,
     "metadata": {},
     "output_type": "execute_result"
    },
    {
     "data": {
      "image/png": "[encoded data removed]",
      "text/plain": [
       "<Figure size 1080x720 with 1 Axes>"
      ]
     },
     "metadata": {},
     "output_type": "display_data"
    }
   ],
   "source": [
    "# Esto en realidad tendria que estar en ejes separados\n",
    "graph_mh = data_mh[['prob','info']].plot(kind='bar', title =\"Red doméstica\", figsize=(15, 10), legend=True, fontsize=12)\n",
    "graph_mh.axhline(entropy(data_mh), color='k', label='Entropía')\n",
    "graph_mh.axhline(max_entropy(data_mh), color='g', label='Entropía máxima')"
   ]
  },
  {
   "cell_type": "code",
   "execution_count": 91,
   "metadata": {},
   "outputs": [
    {
     "data": {
      "text/plain": [
       "<mac.cap: TCP:1444 UDP:3314 ICMP:35 Other:8655>"
      ]
     },
     "execution_count": 91,
     "metadata": {},
     "output_type": "execute_result"
    }
   ],
   "source": [
    "#data_s2.groupby(['tipo', 'dst']).size().sort_values( ascending=False)\n",
    "packets"
   ]
  }
 ],
 "metadata": {
  "kernelspec": {
   "display_name": "Python 3",
   "language": "python",
   "name": "python3"
  },
  "language_info": {
   "codemirror_mode": {
    "name": "ipython",
    "version": 3
   },
   "file_extension": ".py",
   "mimetype": "text/x-python",
   "name": "python",
   "nbconvert_exporter": "python",
   "pygments_lexer": "ipython3",
   "version": "3.6.5"
  }
 },
 "nbformat": 4,
 "nbformat_minor": 2
}
